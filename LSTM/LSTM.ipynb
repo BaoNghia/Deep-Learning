{
  "nbformat": 4,
  "nbformat_minor": 0,
  "metadata": {
    "colab": {
      "name": "Lab06.ipynb",
      "provenance": [],
      "collapsed_sections": []
    },
    "kernelspec": {
      "name": "python3",
      "display_name": "Python 3"
    },
    "accelerator": "GPU"
  },
  "cells": [
    {
      "cell_type": "code",
      "metadata": {
        "id": "b8I45QFCK2Pl",
        "colab_type": "code",
        "outputId": "aff53b60-bd3e-4e65-f1ef-25933243bb24",
        "colab": {
          "base_uri": "https://localhost:8080/",
          "height": 50
        }
      },
      "source": [
        "import os\n",
        "import pandas as pd\n",
        "import numpy as np\n",
        "import nltk\n",
        "\n",
        "from google.colab import drive\n",
        "drive.mount('/content/gdrive')\n",
        "path = 'gdrive/My Drive/AML/DataSet/'\n",
        "os.listdir(path)"
      ],
      "execution_count": 0,
      "outputs": [
        {
          "output_type": "stream",
          "text": [
            "Drive already mounted at /content/gdrive; to attempt to forcibly remount, call drive.mount(\"/content/gdrive\", force_remount=True).\n"
          ],
          "name": "stdout"
        },
        {
          "output_type": "execute_result",
          "data": {
            "text/plain": [
              "['glove_embedding.txt', 'spam_detection.csv']"
            ]
          },
          "metadata": {
            "tags": []
          },
          "execution_count": 86
        }
      ]
    },
    {
      "cell_type": "code",
      "metadata": {
        "id": "P4_0rTAORIUO",
        "colab_type": "code",
        "outputId": "9ae28a96-1104-45f2-a848-4071fcdb3d8e",
        "colab": {
          "base_uri": "https://localhost:8080/",
          "height": 195
        }
      },
      "source": [
        "df = pd.read_csv(path + \"spam_detection.csv\", encoding = 'latin-1')\n",
        "df = df.drop(labels = [\"Unnamed: 2\", \"Unnamed: 3\", \"Unnamed: 4\"], axis = 1)\n",
        "df.columns = [\"Label\", \"Text\"]\n",
        "Map = {'ham': 0, 'spam': 1}\n",
        "df[\"y\"] = df[\"Label\"].map(Map).astype(np.int64)\n",
        "df.tail()"
      ],
      "execution_count": 0,
      "outputs": [
        {
          "output_type": "execute_result",
          "data": {
            "text/html": [
              "<div>\n",
              "<style scoped>\n",
              "    .dataframe tbody tr th:only-of-type {\n",
              "        vertical-align: middle;\n",
              "    }\n",
              "\n",
              "    .dataframe tbody tr th {\n",
              "        vertical-align: top;\n",
              "    }\n",
              "\n",
              "    .dataframe thead th {\n",
              "        text-align: right;\n",
              "    }\n",
              "</style>\n",
              "<table border=\"1\" class=\"dataframe\">\n",
              "  <thead>\n",
              "    <tr style=\"text-align: right;\">\n",
              "      <th></th>\n",
              "      <th>Label</th>\n",
              "      <th>Text</th>\n",
              "      <th>y</th>\n",
              "    </tr>\n",
              "  </thead>\n",
              "  <tbody>\n",
              "    <tr>\n",
              "      <th>5566</th>\n",
              "      <td>spam</td>\n",
              "      <td>This is the 2nd time we have tried 2 contact u...</td>\n",
              "      <td>1</td>\n",
              "    </tr>\n",
              "    <tr>\n",
              "      <th>5567</th>\n",
              "      <td>ham</td>\n",
              "      <td>Will Ì_ b going to esplanade fr home?</td>\n",
              "      <td>0</td>\n",
              "    </tr>\n",
              "    <tr>\n",
              "      <th>5568</th>\n",
              "      <td>ham</td>\n",
              "      <td>Pity, * was in mood for that. So...any other s...</td>\n",
              "      <td>0</td>\n",
              "    </tr>\n",
              "    <tr>\n",
              "      <th>5569</th>\n",
              "      <td>ham</td>\n",
              "      <td>The guy did some bitching but I acted like i'd...</td>\n",
              "      <td>0</td>\n",
              "    </tr>\n",
              "    <tr>\n",
              "      <th>5570</th>\n",
              "      <td>ham</td>\n",
              "      <td>Rofl. Its true to its name</td>\n",
              "      <td>0</td>\n",
              "    </tr>\n",
              "  </tbody>\n",
              "</table>\n",
              "</div>"
            ],
            "text/plain": [
              "     Label                                               Text  y\n",
              "5566  spam  This is the 2nd time we have tried 2 contact u...  1\n",
              "5567   ham              Will Ì_ b going to esplanade fr home?  0\n",
              "5568   ham  Pity, * was in mood for that. So...any other s...  0\n",
              "5569   ham  The guy did some bitching but I acted like i'd...  0\n",
              "5570   ham                         Rofl. Its true to its name  0"
            ]
          },
          "metadata": {
            "tags": []
          },
          "execution_count": 87
        }
      ]
    },
    {
      "cell_type": "code",
      "metadata": {
        "id": "VBIMNxWFOb2m",
        "colab_type": "code",
        "outputId": "020f7771-ef18-4b5d-c6f3-f8c4d63e5453",
        "colab": {
          "base_uri": "https://localhost:8080/",
          "height": 67
        }
      },
      "source": [
        "nltk.download('punkt')\n",
        "\n",
        "texts = df[\"Text\"].to_list()\n",
        "texts = [text.lower() for text in texts]            # chuyển các đoạn text thành chữ thường (word embedding chỉ cho chữ thường)\n",
        "tokenized_texts = [nltk.tokenize.word_tokenize(text) for text in texts]    # tách câu thành một list các từ\n",
        "\n",
        "print(tokenized_texts[0])"
      ],
      "execution_count": 0,
      "outputs": [
        {
          "output_type": "stream",
          "text": [
            "[nltk_data] Downloading package punkt to /root/nltk_data...\n",
            "[nltk_data]   Package punkt is already up-to-date!\n",
            "['ok', 'lar', '...', 'joking', 'wif', 'u', 'oni', '...']\n"
          ],
          "name": "stdout"
        }
      ]
    },
    {
      "cell_type": "code",
      "metadata": {
        "id": "ZD3fZjWVZs9k",
        "colab_type": "code",
        "colab": {}
      },
      "source": [
        "import io\n",
        "import numpy as np\n",
        "def load_word_embeddings(fname):\n",
        "    fin = io.open(fname, 'r', encoding='utf-8', newline='\\n', errors='ignore')\n",
        "    vocab, matrix = [], []\n",
        "    \n",
        "    for line in fin:\n",
        "        tokens = line.rstrip().split(' ')\n",
        "        vocab.append(tokens[0])\n",
        "        matrix.append(list(map(float, tokens[1:])))\n",
        "    return vocab, np.asarray(matrix)"
      ],
      "execution_count": 0,
      "outputs": []
    },
    {
      "cell_type": "code",
      "metadata": {
        "id": "bgyfiV5OlM9R",
        "colab_type": "code",
        "colab": {}
      },
      "source": [
        "vocab, matrix = load_word_embeddings(path + \"glove_embedding.txt\")"
      ],
      "execution_count": 0,
      "outputs": []
    },
    {
      "cell_type": "code",
      "metadata": {
        "id": "V8V8oaRuaBq-",
        "colab_type": "code",
        "colab": {}
      },
      "source": [
        "## Gán các mã\n",
        "__PADDED_INDEX__ = 0    # mã dùng cho các vị trí chỉ có tính nối dài cho cùng kích thước\n",
        "__UNKNOWN_WORD__ = 1    # mã cho những từ không có trong embedding"
      ],
      "execution_count": 0,
      "outputs": []
    },
    {
      "cell_type": "code",
      "metadata": {
        "id": "x2zTjs9MS9Dn",
        "colab_type": "code",
        "outputId": "6555dd3b-380e-4ac1-9425-567a52586843",
        "colab": {
          "base_uri": "https://localhost:8080/",
          "height": 34
        }
      },
      "source": [
        "# Tạo một dictionary, có nhiệm vụ là một ánh xạ từ ảnh sang mã số,\n",
        "# mã số được bắt đầu từ 2 vì số 0 và 1 được dành cho trường hợp đặc biệt\n",
        "word_to_index = {word: index+2 for index, word in enumerate(vocab)}\n",
        "len(word_to_index)"
      ],
      "execution_count": 0,
      "outputs": [
        {
          "output_type": "execute_result",
          "data": {
            "text/plain": [
              "7342"
            ]
          },
          "metadata": {
            "tags": []
          },
          "execution_count": 92
        }
      ]
    },
    {
      "cell_type": "code",
      "metadata": {
        "id": "DSnilH2PTAww",
        "colab_type": "code",
        "outputId": "ce886571-7a93-44f0-b4c6-bad54f0cbdef",
        "colab": {
          "base_uri": "https://localhost:8080/",
          "height": 151
        }
      },
      "source": [
        "# Do mã số được bắt đầu từ 2, nên cần thêm 2 vector vào đàu ma trận\n",
        "embedding_matrix = np.pad(matrix, [[2,0],[0,0]], mode='constant', constant_values =0.0)\n",
        "print(embedding_matrix.shape)\n",
        "print(embedding_matrix)\n",
        "\n",
        "# Khi đó, __PADDED_INDEX__ dùng dòng đầu tiên của  embedding_matrix\n",
        "# __UNKNOWN_WORD__ dùng dòng thứ hai của embedding_matrix"
      ],
      "execution_count": 0,
      "outputs": [
        {
          "output_type": "stream",
          "text": [
            "(7362, 300)\n",
            "[[ 0.         0.         0.        ...  0.         0.         0.       ]\n",
            " [ 0.         0.         0.        ...  0.         0.         0.       ]\n",
            " [ 0.18378   -0.12123   -0.11987   ... -0.039038   0.18274    0.14654  ]\n",
            " ...\n",
            " [ 0.18754   -0.040832   0.19611   ...  0.079996   0.016479   0.17797  ]\n",
            " [-0.1167     0.0073071 -0.19401   ...  0.21549    0.015527   0.14948  ]\n",
            " [ 0.075198  -0.097452  -0.14505   ...  0.23842   -0.39966    0.14454  ]]\n"
          ],
          "name": "stdout"
        }
      ]
    },
    {
      "cell_type": "code",
      "metadata": {
        "id": "Ovo16UBWShvw",
        "colab_type": "code",
        "outputId": "858ddaaf-8476-43d2-e79b-e244769526a3",
        "colab": {
          "base_uri": "https://localhost:8080/",
          "height": 50
        }
      },
      "source": [
        "import tensorflow as tf\n",
        "print(tf.__version__)\n",
        "\n",
        "X = []\n",
        "for text in tokenized_texts:\n",
        "    cur_text_indices = []\n",
        "    for word in text:\n",
        "        if word in word_to_index:\n",
        "            cur_text_indices.append(word_to_index[word])    ## map từ word sang index\n",
        "        else:\n",
        "            cur_text_indices.append(__UNKNOWN_WORD__)       ## gán unknown cho từ không có trong bộ glove\n",
        "    X.append(cur_text_indices)\n",
        "\n",
        "## pad data cho có cùng chiều dài\n",
        "X = tf.keras.preprocessing.sequence.pad_sequences(sequences=X,       # sequences: list các câu có độ dài không bằng nhau\n",
        "                                                  padding='post')    # vị trí pad là 'pre' (trước) hoặc 'post' (sau)\n",
        "\n",
        "y = df['y'].values   ## Label của bài toán, 0 là không phải spam, 1 là spam\n",
        "X.shape, y.shape"
      ],
      "execution_count": 0,
      "outputs": [
        {
          "output_type": "stream",
          "text": [
            "1.15.0\n"
          ],
          "name": "stdout"
        },
        {
          "output_type": "execute_result",
          "data": {
            "text/plain": [
              "((5571, 215), (5571,))"
            ]
          },
          "metadata": {
            "tags": []
          },
          "execution_count": 94
        }
      ]
    },
    {
      "cell_type": "code",
      "metadata": {
        "id": "f0RqNr8VKs9J",
        "colab_type": "code",
        "colab": {}
      },
      "source": [
        "## Chia data\n",
        "from sklearn.model_selection import train_test_split\n",
        "X_train, X_valid, y_train, y_valid = train_test_split(X, y, test_size= 0.2, random_state = 42)"
      ],
      "execution_count": 0,
      "outputs": []
    },
    {
      "cell_type": "code",
      "metadata": {
        "id": "6VKhLXNgMXB1",
        "colab_type": "code",
        "outputId": "65bd2dfe-6bd1-43e6-ce7f-0ea885fc9e26",
        "colab": {
          "base_uri": "https://localhost:8080/",
          "height": 286
        }
      },
      "source": [
        "from tensorflow.keras.layers import Input, Embedding, LSTM, Bidirectional, Dense\n",
        "from tensorflow.keras.models import Model\n",
        "\n",
        "inputs = Input(shape=(None,))                   ## None biểu thị kích thước không xác định của câu\n",
        "\n",
        "embed = Embedding(input_dim=embedding_matrix.shape[0],    ## Khai báo kích thước của vocab\n",
        "                  output_dim=embedding_matrix.shape[1],   ## Khai báo kích thước của embedding\n",
        "                  embeddings_initializer = tf.keras.initializers.Constant(value=embedding_matrix),  ## Khởi tạo cho embedding bằng ma trận có sẵn\n",
        "                  trainable=False,                        ## Không cần thiết train embedding\n",
        "                  mask_zero=True)(inputs)                 ## zero_mask: những vị trí có giá trị 0 không được tính toán, vì đó là giá trị thêm vào cho đủ độ dài mà thôi\n",
        "                                                          ##  (__PADDED_INDEX__ gán bằng 0)\n",
        "\n",
        "lstm = Bidirectional(LSTM(units=100,                      ## units: kích thước của hidden_state trong LSTM\n",
        "            return_sequences=False))(embed)               ## return_sequences: LSTM trả về toàn bộ  hay là trả về hidden_state cuối cùng\n",
        "\n",
        "dense = Dense(units=2, activation='softmax')(lstm)\n",
        "\n",
        "model = Model(inputs=inputs,\n",
        "              outputs=dense)\n",
        "\n",
        "model.compile(optimizer='adam',\n",
        "             loss='sparse_categorical_crossentropy',\n",
        "             metrics=['accuracy'])\n",
        "\n",
        "# dense1 = Dense(1, activation='sigmoid')(lstm)\n",
        "# model.compile(optimizer='rmsprop',\n",
        "#              loss='binary_crossentropy',\n",
        "#              metrics=['accuracy'])\n",
        "\n",
        "model.summary()"
      ],
      "execution_count": 0,
      "outputs": [
        {
          "output_type": "stream",
          "text": [
            "Model: \"model_7\"\n",
            "_________________________________________________________________\n",
            "Layer (type)                 Output Shape              Param #   \n",
            "=================================================================\n",
            "input_8 (InputLayer)         [(None, None)]            0         \n",
            "_________________________________________________________________\n",
            "embedding_7 (Embedding)      (None, None, 300)         2208600   \n",
            "_________________________________________________________________\n",
            "bidirectional_6 (Bidirection (None, 200)               320800    \n",
            "_________________________________________________________________\n",
            "dense_7 (Dense)              (None, 2)                 402       \n",
            "=================================================================\n",
            "Total params: 2,529,802\n",
            "Trainable params: 321,202\n",
            "Non-trainable params: 2,208,600\n",
            "_________________________________________________________________\n"
          ],
          "name": "stdout"
        }
      ]
    },
    {
      "cell_type": "code",
      "metadata": {
        "id": "cw96uMq0Mcv9",
        "colab_type": "code",
        "outputId": "67a41b49-e3e2-4849-ddad-4bf0f3a87ec6",
        "colab": {
          "base_uri": "https://localhost:8080/",
          "height": 403
        }
      },
      "source": [
        "# Checkpoint Callback\n",
        "mc = tf.keras.callbacks.ModelCheckpoint(filepath=\"lstm_spam.h5\", \n",
        "                                        monitor='val_loss',\n",
        "                                        mode='min', \n",
        "                                        verbose=0, \n",
        "                                        save_best_only=True)\n",
        "# Train\n",
        "model.fit(X_train, y_train, \n",
        "          validation_data=(X_valid, y_valid),\n",
        "         epochs=10,\n",
        "         callbacks=[mc])\n",
        "\n",
        "model.load_weights(\"lstm_spam.h5\")\n",
        "_, val_acc = model.evaluate(X_valid, y_valid)\n",
        "print(\"Accuracy on valid: \", val_acc)"
      ],
      "execution_count": 0,
      "outputs": [
        {
          "output_type": "stream",
          "text": [
            "Train on 4456 samples, validate on 1115 samples\n",
            "Epoch 1/10\n",
            "4456/4456 [==============================] - 124s 28ms/sample - loss: 0.1219 - acc: 0.9542 - val_loss: 0.1026 - val_acc: 0.9641\n",
            "Epoch 2/10\n",
            "4456/4456 [==============================] - 121s 27ms/sample - loss: 0.0483 - acc: 0.9852 - val_loss: 0.0456 - val_acc: 0.9839\n",
            "Epoch 3/10\n",
            "4456/4456 [==============================] - 120s 27ms/sample - loss: 0.0277 - acc: 0.9910 - val_loss: 0.0450 - val_acc: 0.9848\n",
            "Epoch 4/10\n",
            "4456/4456 [==============================] - 119s 27ms/sample - loss: 0.0180 - acc: 0.9942 - val_loss: 0.0595 - val_acc: 0.9812\n",
            "Epoch 5/10\n",
            "4456/4456 [==============================] - 119s 27ms/sample - loss: 0.0132 - acc: 0.9964 - val_loss: 0.0567 - val_acc: 0.9848\n",
            "Epoch 6/10\n",
            "4456/4456 [==============================] - 119s 27ms/sample - loss: 0.0054 - acc: 0.9991 - val_loss: 0.0495 - val_acc: 0.9848\n",
            "Epoch 7/10\n",
            "4456/4456 [==============================] - 118s 27ms/sample - loss: 0.0032 - acc: 0.9996 - val_loss: 0.0506 - val_acc: 0.9892\n",
            "Epoch 8/10\n",
            "4456/4456 [==============================] - 119s 27ms/sample - loss: 0.0016 - acc: 0.9998 - val_loss: 0.0522 - val_acc: 0.9883\n",
            "Epoch 9/10\n",
            "4456/4456 [==============================] - 119s 27ms/sample - loss: 0.0012 - acc: 0.9998 - val_loss: 0.0551 - val_acc: 0.9883\n",
            "Epoch 10/10\n",
            "4456/4456 [==============================] - 118s 26ms/sample - loss: 0.0011 - acc: 0.9998 - val_loss: 0.0571 - val_acc: 0.9883\n",
            "1115/1115 [==============================] - 8s 7ms/sample - loss: 0.0450 - acc: 0.9848\n",
            "Accuracy on valid:  0.9847534\n"
          ],
          "name": "stdout"
        }
      ]
    },
    {
      "cell_type": "code",
      "metadata": {
        "id": "_ntGAHl98EZ5",
        "colab_type": "code",
        "colab": {}
      },
      "source": [
        "def model_predict(texts):\n",
        "  tests = [text.lower() for text in texts]            # chuyển các đoạn text thành chữ thường (word embedding chỉ cho chữ thường)\n",
        "  tokenized_test = [nltk.tokenize.word_tokenize(test) for test in tests]    # tách câu thành một list các từ\n",
        "  X_test = []\n",
        "  for text in tokenized_test:\n",
        "    cur_text_indices = []\n",
        "    for word in text:\n",
        "        if word in word_to_index:\n",
        "            cur_text_indices.append(word_to_index[word])    ## map từ word sang index\n",
        "        else:\n",
        "            cur_text_indices.append(__UNKNOWN_WORD__)       ## gán unknown cho từ không có trong bộ glove\n",
        "    X_test.append(cur_text_indices)\n",
        "\n",
        "  ## pad data cho có cùng chiều dài\n",
        "  X_test = tf.keras.preprocessing.sequence.pad_sequences(sequences=X_test,       # sequences: list các câu có độ dài không bằng nhau\n",
        "                                                       padding='post')    # vị trí pad là 'pre' (trước) hoặc 'post' (sau)\n",
        "\n",
        "\n",
        "  model.load_weights(\"lstm_spam.h5\")\n",
        "  prediction = model.predict(X_test)\n",
        "  return prediction"
      ],
      "execution_count": 0,
      "outputs": []
    },
    {
      "cell_type": "code",
      "metadata": {
        "id": "BRQVTGShGfEW",
        "colab_type": "code",
        "outputId": "fdfeffcd-e07f-4a2a-c41d-dcb44b17218a",
        "colab": {
          "base_uri": "https://localhost:8080/",
          "height": 34
        }
      },
      "source": [
        "tests=[\"wanna ask something? just send me a mess\",\n",
        "       \"Urgent! You have won our competition's prize!! Please call us now.\",\n",
        "       \"Call me to get a free holiday now\"]\n",
        "A = model_predict(tests)\n",
        "result = np.argmax(A, axis = 1)\n",
        "result"
      ],
      "execution_count": 0,
      "outputs": [
        {
          "output_type": "execute_result",
          "data": {
            "text/plain": [
              "array([0, 1, 0])"
            ]
          },
          "metadata": {
            "tags": []
          },
          "execution_count": 125
        }
      ]
    },
    {
      "cell_type": "code",
      "metadata": {
        "id": "uepQo0C-Tngu",
        "colab_type": "code",
        "colab": {}
      },
      "source": [
        ""
      ],
      "execution_count": 0,
      "outputs": []
    }
  ]
}