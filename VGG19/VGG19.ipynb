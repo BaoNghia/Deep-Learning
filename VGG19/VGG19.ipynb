{
  "nbformat": 4,
  "nbformat_minor": 0,
  "metadata": {
    "colab": {
      "name": "Lab03.ipynb",
      "provenance": []
    },
    "kernelspec": {
      "name": "python3",
      "display_name": "Python 3"
    },
    "accelerator": "GPU"
  },
  "cells": [
    {
      "cell_type": "code",
      "metadata": {
        "id": "dscsUmej4g8F",
        "colab_type": "code",
        "colab": {}
      },
      "source": [
        "#import thư viện cần thiết\n",
        "## thư viện machine learning và hỗ trợ\n",
        "import tensorflow as tf\n",
        "from tensorflow import keras\n",
        "import numpy as np\n",
        "import cv2 \n",
        "\n",
        "## thư viện để vẽ đồ thị\n",
        "import matplotlib.pyplot as plt"
      ],
      "execution_count": 0,
      "outputs": []
    },
    {
      "cell_type": "markdown",
      "metadata": {
        "id": "UAw4yN6f6Xh5",
        "colab_type": "text"
      },
      "source": [
        "### 1. Tải Data và Resize\n"
      ]
    },
    {
      "cell_type": "code",
      "metadata": {
        "id": "LIDklrsP6Vku",
        "colab_type": "code",
        "outputId": "87c7ec45-cddd-4b04-b144-30db82991d1e",
        "colab": {
          "base_uri": "https://localhost:8080/",
          "height": 34
        }
      },
      "source": [
        "# Tải dataset MNIST từ tensorflow\n",
        "## MNIST là bài toán dự đoán một ảnh thể hiện ký tự số nào\n",
        "\n",
        "## tải MNIST dataset từ keras\n",
        "(X_train, y_train), (X_test, y_test) = keras.datasets.mnist.load_data()\n",
        "##resacle ảnh thành ảnh thực trong đoạn [0,1]\n",
        "X_train, X_test = X_train/255.0, X_test/255.0\n",
        "\n",
        "##in dataset\n",
        "print(X_train.shape, y_train.shape, X_test.shape, y_test.shape)"
      ],
      "execution_count": 0,
      "outputs": [
        {
          "output_type": "stream",
          "text": [
            "(60000, 28, 28) (60000,) (10000, 28, 28) (10000,)\n"
          ],
          "name": "stdout"
        }
      ]
    },
    {
      "cell_type": "code",
      "metadata": {
        "id": "8ZguvjTl6oIr",
        "colab_type": "code",
        "outputId": "4dd11da9-9b0b-491f-8afd-fd0bacd68b4e",
        "colab": {
          "base_uri": "https://localhost:8080/",
          "height": 549
        }
      },
      "source": [
        "## Resize toàn bộ ảnh train tập train và test\n",
        "X_train = np.array([cv2.resize(img, dsize=(32,32)) for img in X_train])\n",
        "X_test = np.array([cv2.resize(img, dsize=(32,32)) for img in X_test])\n",
        "print(\"Kích thước tập sau khi resize: \", X_train.shape, X_test.shape)\n",
        "\n",
        "## In xem ảnh còn ổn không sau khi resize\n",
        "plt.imshow(X_train[0])\n",
        "plt.show()\n",
        "\n",
        "## Reshape ảnh để phù hợp với input của model (thêm một trục)\n",
        "X_train = np.expand_dims(X_train, axis=-1)\n",
        "X_test = np.expand_dims(X_test, axis=-1)\n",
        "print(\"Kích thước tập sau khi reshape: \", X_train.shape, X_test.shape)\n",
        "\n",
        "plt.imshow(X_train[0,:,:,0])\n",
        "plt.show()\n",
        "\n",
        "#Tách một phần tập train thành tập valid\n",
        "from sklearn.model_selection import train_test_split\n",
        "X_train, X_valid, y_train, y_valid = train_test_split(X_train, y_train, test_size=0.1)"
      ],
      "execution_count": 0,
      "outputs": [
        {
          "output_type": "stream",
          "text": [
            "Kích thước tập sau khi resize:  (60000, 32, 32) (10000, 32, 32)\n"
          ],
          "name": "stdout"
        },
        {
          "output_type": "display_data",
          "data": {
            "image/png": "[encoded data removed]",
            "text/plain": [
              "<Figure size 432x288 with 1 Axes>"
            ]
          },
          "metadata": {
            "tags": []
          }
        },
        {
          "output_type": "stream",
          "text": [
            "Kích thước tập sau khi reshape:  (60000, 32, 32, 1) (10000, 32, 32, 1)\n"
          ],
          "name": "stdout"
        },
        {
          "output_type": "display_data",
          "data": {
            "image/png": "[encoded data removed]",
            "text/plain": [
              "<Figure size 432x288 with 1 Axes>"
            ]
          },
          "metadata": {
            "tags": []
          }
        }
      ]
    },
    {
      "cell_type": "markdown",
      "metadata": {
        "id": "13oDWOBx6zJz",
        "colab_type": "text"
      },
      "source": [
        "### 2. VGG19\n"
      ]
    },
    {
      "cell_type": "code",
      "metadata": {
        "id": "gwHUwR3c44RW",
        "colab_type": "code",
        "outputId": "6cc8b301-0508-45b0-9aae-02737fe13631",
        "colab": {
          "base_uri": "https://localhost:8080/",
          "height": 1000
        }
      },
      "source": [
        "vgg19 = keras.applications.vgg19.VGG19(include_top=True, \n",
        "                                       weights=None, \n",
        "                                       input_tensor=None, \n",
        "                                       input_shape=(32,32,1), \n",
        "                                       pooling='max',\n",
        "                                       classes=10)\n",
        "vgg19.summary()"
      ],
      "execution_count": 0,
      "outputs": [
        {
          "output_type": "stream",
          "text": [
            "WARNING:tensorflow:From /usr/local/lib/python3.6/dist-packages/tensorflow_core/python/ops/resource_variable_ops.py:1630: calling BaseResourceVariable.__init__ (from tensorflow.python.ops.resource_variable_ops) with constraint is deprecated and will be removed in a future version.\n",
            "Instructions for updating:\n",
            "If using Keras pass *_constraint arguments to layers.\n",
            "Model: \"vgg19\"\n",
            "_________________________________________________________________\n",
            "Layer (type)                 Output Shape              Param #   \n",
            "=================================================================\n",
            "input_1 (InputLayer)         [(None, 32, 32, 1)]       0         \n",
            "_________________________________________________________________\n",
            "block1_conv1 (Conv2D)        (None, 32, 32, 64)        640       \n",
            "_________________________________________________________________\n",
            "block1_conv2 (Conv2D)        (None, 32, 32, 64)        36928     \n",
            "_________________________________________________________________\n",
            "block1_pool (MaxPooling2D)   (None, 16, 16, 64)        0         \n",
            "_________________________________________________________________\n",
            "block2_conv1 (Conv2D)        (None, 16, 16, 128)       73856     \n",
            "_________________________________________________________________\n",
            "block2_conv2 (Conv2D)        (None, 16, 16, 128)       147584    \n",
            "_________________________________________________________________\n",
            "block2_pool (MaxPooling2D)   (None, 8, 8, 128)         0         \n",
            "_________________________________________________________________\n",
            "block3_conv1 (Conv2D)        (None, 8, 8, 256)         295168    \n",
            "_________________________________________________________________\n",
            "block3_conv2 (Conv2D)        (None, 8, 8, 256)         590080    \n",
            "_________________________________________________________________\n",
            "block3_conv3 (Conv2D)        (None, 8, 8, 256)         590080    \n",
            "_________________________________________________________________\n",
            "block3_conv4 (Conv2D)        (None, 8, 8, 256)         590080    \n",
            "_________________________________________________________________\n",
            "block3_pool (MaxPooling2D)   (None, 4, 4, 256)         0         \n",
            "_________________________________________________________________\n",
            "block4_conv1 (Conv2D)        (None, 4, 4, 512)         1180160   \n",
            "_________________________________________________________________\n",
            "block4_conv2 (Conv2D)        (None, 4, 4, 512)         2359808   \n",
            "_________________________________________________________________\n",
            "block4_conv3 (Conv2D)        (None, 4, 4, 512)         2359808   \n",
            "_________________________________________________________________\n",
            "block4_conv4 (Conv2D)        (None, 4, 4, 512)         2359808   \n",
            "_________________________________________________________________\n",
            "block4_pool (MaxPooling2D)   (None, 2, 2, 512)         0         \n",
            "_________________________________________________________________\n",
            "block5_conv1 (Conv2D)        (None, 2, 2, 512)         2359808   \n",
            "_________________________________________________________________\n",
            "block5_conv2 (Conv2D)        (None, 2, 2, 512)         2359808   \n",
            "_________________________________________________________________\n",
            "block5_conv3 (Conv2D)        (None, 2, 2, 512)         2359808   \n",
            "_________________________________________________________________\n",
            "block5_conv4 (Conv2D)        (None, 2, 2, 512)         2359808   \n",
            "_________________________________________________________________\n",
            "block5_pool (MaxPooling2D)   (None, 1, 1, 512)         0         \n",
            "_________________________________________________________________\n",
            "flatten (Flatten)            (None, 512)               0         \n",
            "_________________________________________________________________\n",
            "fc1 (Dense)                  (None, 4096)              2101248   \n",
            "_________________________________________________________________\n",
            "fc2 (Dense)                  (None, 4096)              16781312  \n",
            "_________________________________________________________________\n",
            "predictions (Dense)          (None, 10)                40970     \n",
            "=================================================================\n",
            "Total params: 38,946,762\n",
            "Trainable params: 38,946,762\n",
            "Non-trainable params: 0\n",
            "_________________________________________________________________\n"
          ],
          "name": "stdout"
        }
      ]
    },
    {
      "cell_type": "code",
      "metadata": {
        "id": "vawLQ9wQ5Vix",
        "colab_type": "code",
        "outputId": "7cc50bb3-0ac1-4196-8288-44d3ad79926d",
        "colab": {
          "base_uri": "https://localhost:8080/",
          "height": 1000
        }
      },
      "source": [
        "## import l2 regularizer\n",
        "## l2 sẽ được khai báo truyền vào khi khởi tạo lớp\n",
        "from keras.regularizers import l2\n",
        "l2_regularizer_rate = 0.0005\n",
        "\n",
        "## Tạo lớp input kích thước (None, 32, 32, 1)\n",
        "inputs = keras.layers.Input(shape=(32,32,1))\n",
        "\n",
        "### Block 1\n",
        "#### Gồm 2 lớp convolution và 1 lớp maxpoool\n",
        "#### Lớp convolution số filter 64, kernel size 3x3, hàm kích hoạt ReLU\n",
        "conv1_1 = keras.layers.Convolution2D(filters=64,\n",
        "                                     kernel_size=[3,3],\n",
        "                                     strides=[1,1],\n",
        "                                     padding='same',\n",
        "                                     activation=tf.nn.relu)(inputs)\n",
        "conv1_2 = keras.layers.Convolution2D(filters=64,\n",
        "                                     kernel_size=[3,3],\n",
        "                                     strides=[1,1],\n",
        "                                     padding='same',\n",
        "                                     activation=tf.nn.relu)(conv1_1)\n",
        "maxpool1 = keras.layers.MaxPool2D(pool_size=[2,2],\n",
        "                                  strides=[2,2])(conv1_2)\n",
        "\n",
        "### Block 2\n",
        "#### Gồm 2 lớp convolution và 1 lớp maxpoool\n",
        "#### Lớp convolution số filter 128, kernel size 3x3, hàm kích hoạt ReLU\n",
        "conv2_1 = keras.layers.Convolution2D(filters=128,\n",
        "                                     kernel_size=[3,3],\n",
        "                                     strides=[1,1],\n",
        "                                     padding='same',\n",
        "                                     activation=tf.nn.relu)(maxpool1)\n",
        "conv2_2 = keras.layers.Convolution2D(filters=128,\n",
        "                                     kernel_size=[3,3],\n",
        "                                     strides=[1,1],\n",
        "                                     padding='same',\n",
        "                                     activation=tf.nn.relu)(conv2_1)\n",
        "maxpool2 = keras.layers.MaxPool2D(pool_size=[2,2],\n",
        "                                  strides=[2,2])(conv2_2)\n",
        "\n",
        "### Block 3\n",
        "#### Gồm 3 lớp convolution và 1 lớp maxpoool\n",
        "#### Lớp convolution số filter 256, kernel size 3x3, hàm kích hoạt ReLU\n",
        "conv3_1 = keras.layers.Convolution2D(filters=256,\n",
        "                                     kernel_size=[3,3],\n",
        "                                     strides=[1,1],\n",
        "                                     padding='same',\n",
        "                                     activation=tf.nn.relu)(maxpool2)\n",
        "conv3_2 = keras.layers.Convolution2D(filters=256,\n",
        "                                     kernel_size=[3,3],\n",
        "                                     strides=[1,1],\n",
        "                                     padding='same',\n",
        "                                     activation=tf.nn.relu)(conv3_1)\n",
        "conv3_3 = keras.layers.Convolution2D(filters=256,\n",
        "                                     kernel_size=[3,3],\n",
        "                                     strides=[1,1],\n",
        "                                     padding='same',\n",
        "                                     activation=tf.nn.relu)(conv3_2)\n",
        "conv3_4 = keras.layers.Convolution2D(filters=256,\n",
        "                                     kernel_size=[3,3],\n",
        "                                     strides=[1,1],\n",
        "                                     padding='same',\n",
        "                                     activation=tf.nn.relu)(conv3_3)\n",
        "maxpool3 = keras.layers.MaxPool2D(pool_size=[2,2],\n",
        "                                  strides=[2,2])(conv3_4)\n",
        "\n",
        "### Block 4\n",
        "#### Gồm 3 lớp convolution và 1 lớp maxpoool\n",
        "#### Lớp convolution số filter 512, kernel size 3x3, hàm kích hoạt ReLU\n",
        "conv4_1 = keras.layers.Convolution2D(filters=512,\n",
        "                                     kernel_size=[3,3],\n",
        "                                     strides=[1,1],\n",
        "                                     padding='same',\n",
        "                                     activation=tf.nn.relu)(maxpool3)\n",
        "conv4_2 = keras.layers.Convolution2D(filters=512,\n",
        "                                     kernel_size=[3,3],\n",
        "                                     strides=[1,1],\n",
        "                                     padding='same',\n",
        "                                     activation=tf.nn.relu)(conv4_1)\n",
        "conv4_3 = keras.layers.Convolution2D(filters=512,\n",
        "                                     kernel_size=[3,3],\n",
        "                                     strides=[1,1],\n",
        "                                     padding='same',\n",
        "                                     activation=tf.nn.relu)(conv4_2)\n",
        "conv4_4 = keras.layers.Convolution2D(filters=512,\n",
        "                                     kernel_size=[3,3],\n",
        "                                     strides=[1,1],\n",
        "                                     padding='same',\n",
        "                                     activation=tf.nn.relu)(conv4_3)\n",
        "maxpool4 = keras.layers.MaxPool2D(pool_size=[2,2],\n",
        "                                  strides=[2,2])(conv4_4)\n",
        "\n",
        "### Block 5\n",
        "#### Gồm 3 lớp convolution và 1 lớp maxpoool\n",
        "#### Lớp convolution số filter 512, kernel size 3x3, hàm kích hoạt ReLU\n",
        "conv5_1 = keras.layers.Convolution2D(filters=512,\n",
        "                                     kernel_size=[3,3],\n",
        "                                     strides=[1,1],\n",
        "                                     padding='same',\n",
        "                                     activation=tf.nn.relu)(maxpool4)\n",
        "conv5_2 = keras.layers.Convolution2D(filters=512,\n",
        "                                     kernel_size=[3,3],\n",
        "                                     strides=[1,1],\n",
        "                                     padding='same',\n",
        "                                     activation=tf.nn.relu)(conv5_1)\n",
        "conv5_3 = keras.layers.Convolution2D(filters=512,\n",
        "                                     kernel_size=[3,3],\n",
        "                                     strides=[1,1],\n",
        "                                     padding='same',\n",
        "                                     activation=tf.nn.relu)(conv5_2)\n",
        "conv5_4 = keras.layers.Convolution2D(filters=512,\n",
        "                                     kernel_size=[3,3],\n",
        "                                     strides=[1,1],\n",
        "                                     padding='same',\n",
        "                                     activation=tf.nn.relu)(conv5_3)\n",
        "maxpool5 = keras.layers.MaxPool2D(pool_size=[2,2],\n",
        "                                  strides=[2,2])(conv5_4)\n",
        "\n",
        "### Block cuối\n",
        "#### Gồm 2 lớp fully-connected và 1 lớp output (cũng fully-connected)\n",
        "#### Số neurons trong 3 lớp lần lượt là 4096, 4096, 10\n",
        "flatten6 = keras.layers.Flatten()(maxpool5)\n",
        "dense6_1 = keras.layers.Dense(units=4096, \n",
        "                              activation='relu',\n",
        "                              kernel_regularizer=l2(l2_regularizer_rate))(flatten6)\n",
        "dropout6_1 = keras.layers.Dropout(rate=0.5)(dense6_1)  ## Lớp Dropout (chỉ chạy khi train), rate: xác suất bị drop\n",
        "\n",
        "dense6_2 = keras.layers.Dense(units=4096, \n",
        "                              activation='relu',\n",
        "                              kernel_regularizer=l2(l2_regularizer_rate))(dropout6_1)\n",
        "dropout6_2 = keras.layers.Dropout(rate=0.5)(dense6_2)  ## Lớp Dropout (chỉ chạy khi train), rate: xác suất bị drop\n",
        "\n",
        "softmax = keras.layers.Dense(units=10, \n",
        "                             activation='softmax')(dropout6_2)\n",
        "\n",
        "\n",
        "## Compile model\n",
        "model = keras.models.Model(inputs=inputs, outputs=softmax)\n",
        "model.compile(optimizer=keras.optimizers.Adam(learning_rate=0.0001),    ##tự khai báo Optimizer với learning rate 10^-4\n",
        "             loss=tf.keras.losses.sparse_categorical_crossentropy,\n",
        "             metrics=[\"accuracy\"])\n",
        "    \n",
        "\n",
        "## In toàn bộ cấu trúc của model\n",
        "print(\"Cấu trúc của model: \")\n",
        "model.summary()"
      ],
      "execution_count": 0,
      "outputs": [
        {
          "output_type": "stream",
          "text": [
            "Cấu trúc của model: \n",
            "Model: \"model_7\"\n",
            "_________________________________________________________________\n",
            "Layer (type)                 Output Shape              Param #   \n",
            "=================================================================\n",
            "input_9 (InputLayer)         [(None, 32, 32, 1)]       0         \n",
            "_________________________________________________________________\n",
            "conv2d_112 (Conv2D)          (None, 32, 32, 64)        640       \n",
            "_________________________________________________________________\n",
            "conv2d_113 (Conv2D)          (None, 32, 32, 64)        36928     \n",
            "_________________________________________________________________\n",
            "max_pooling2d_35 (MaxPooling (None, 16, 16, 64)        0         \n",
            "_________________________________________________________________\n",
            "conv2d_114 (Conv2D)          (None, 16, 16, 128)       73856     \n",
            "_________________________________________________________________\n",
            "conv2d_115 (Conv2D)          (None, 16, 16, 128)       147584    \n",
            "_________________________________________________________________\n",
            "max_pooling2d_36 (MaxPooling (None, 8, 8, 128)         0         \n",
            "_________________________________________________________________\n",
            "conv2d_116 (Conv2D)          (None, 8, 8, 256)         295168    \n",
            "_________________________________________________________________\n",
            "conv2d_117 (Conv2D)          (None, 8, 8, 256)         590080    \n",
            "_________________________________________________________________\n",
            "conv2d_118 (Conv2D)          (None, 8, 8, 256)         590080    \n",
            "_________________________________________________________________\n",
            "conv2d_119 (Conv2D)          (None, 8, 8, 256)         590080    \n",
            "_________________________________________________________________\n",
            "max_pooling2d_37 (MaxPooling (None, 4, 4, 256)         0         \n",
            "_________________________________________________________________\n",
            "conv2d_120 (Conv2D)          (None, 4, 4, 512)         1180160   \n",
            "_________________________________________________________________\n",
            "conv2d_121 (Conv2D)          (None, 4, 4, 512)         2359808   \n",
            "_________________________________________________________________\n",
            "conv2d_122 (Conv2D)          (None, 4, 4, 512)         2359808   \n",
            "_________________________________________________________________\n",
            "conv2d_123 (Conv2D)          (None, 4, 4, 512)         2359808   \n",
            "_________________________________________________________________\n",
            "max_pooling2d_38 (MaxPooling (None, 2, 2, 512)         0         \n",
            "_________________________________________________________________\n",
            "conv2d_124 (Conv2D)          (None, 2, 2, 512)         2359808   \n",
            "_________________________________________________________________\n",
            "conv2d_125 (Conv2D)          (None, 2, 2, 512)         2359808   \n",
            "_________________________________________________________________\n",
            "conv2d_126 (Conv2D)          (None, 2, 2, 512)         2359808   \n",
            "_________________________________________________________________\n",
            "conv2d_127 (Conv2D)          (None, 2, 2, 512)         2359808   \n",
            "_________________________________________________________________\n",
            "max_pooling2d_39 (MaxPooling (None, 1, 1, 512)         0         \n",
            "_________________________________________________________________\n",
            "flatten_7 (Flatten)          (None, 512)               0         \n",
            "_________________________________________________________________\n",
            "dense_21 (Dense)             (None, 4096)              2101248   \n",
            "_________________________________________________________________\n",
            "dropout_14 (Dropout)         (None, 4096)              0         \n",
            "_________________________________________________________________\n",
            "dense_22 (Dense)             (None, 4096)              16781312  \n",
            "_________________________________________________________________\n",
            "dropout_15 (Dropout)         (None, 4096)              0         \n",
            "_________________________________________________________________\n",
            "dense_23 (Dense)             (None, 10)                40970     \n",
            "=================================================================\n",
            "Total params: 38,946,762\n",
            "Trainable params: 38,946,762\n",
            "Non-trainable params: 0\n",
            "_________________________________________________________________\n"
          ],
          "name": "stdout"
        }
      ]
    },
    {
      "cell_type": "code",
      "metadata": {
        "id": "A4N9cYo15Va-",
        "colab_type": "code",
        "outputId": "f0beffa1-71ac-42ae-eb3e-9626e6bb41a3",
        "colab": {
          "base_uri": "https://localhost:8080/",
          "height": 840
        }
      },
      "source": [
        "### Tạo một callback ModelCheckpoint: callback này sẽ lưu model mỗi khi tìm được một model tốt hơn\n",
        "#### filepath: đường dẫn file muốn lưu\n",
        "#### monitor: đại lượng quyết định xem model có \"tốt hơn\" hay không\n",
        "#### mode='auto'/'max'/'min': đại lượng monitor lớn hay nhỏ là tốt hơn\n",
        "#### verbose: có thông báo mỗi lần lưu ko\n",
        "#### save_best_only: chỉ lưu model tốt nhất\n",
        "mc = keras.callbacks.ModelCheckpoint(filepath=\"vgg19_mnist.h5\", \n",
        "                                     monitor='val_loss',\n",
        "                                     mode='min', \n",
        "                                     verbose=0, \n",
        "                                     save_best_only=True)\n",
        "\n",
        "## Train  ## Khuyến cáo chạy COLAB (hoặc tương tự)\n",
        "history = model.fit(X_train, y_train,\n",
        "                    batch_size=256,\n",
        "                    epochs=20,\n",
        "                    validation_data=(X_valid, y_valid),\n",
        "                    callbacks=[mc])                     ##sử dụng callback ModelCheckpoint trong quá trình train\n",
        "\n",
        "\n",
        "## Đánh giá model trên tập test\n",
        "valid_loss, valid_acc = model.evaluate(X_valid, y_valid)\n",
        "test_loss, test_acc = model.evaluate(X_test, y_test)\n",
        "print(\"Valid: loss {} acc {} -- Test: loss {} valid {}\".format(valid_loss, valid_acc, test_loss, test_acc))\n",
        "\n",
        "## Load lại model tốt nhất đã lưu\n",
        "print(\"\\nbest model: \")\n",
        "model.load_weights(\"vgg19_mnist.h5\")\n",
        "valid_loss, valid_acc = model.evaluate(X_valid, y_valid)\n",
        "test_loss, test_acc = model.evaluate(X_test, y_test)\n",
        "print(\"Valid: loss {}, acc {} -- Test: loss {}, valid {}\".format(valid_loss, valid_acc, test_loss, test_acc))"
      ],
      "execution_count": 0,
      "outputs": [
        {
          "output_type": "stream",
          "text": [
            "Train on 54000 samples, validate on 6000 samples\n",
            "Epoch 1/20\n",
            "54000/54000 [==============================] - 64s 1ms/sample - loss: 2.8352 - acc: 0.3484 - val_loss: 1.3341 - val_acc: 0.7077\n",
            "Epoch 2/20\n",
            "54000/54000 [==============================] - 59s 1ms/sample - loss: 0.7691 - acc: 0.9039 - val_loss: 0.4929 - val_acc: 0.9665\n",
            "Epoch 3/20\n",
            "54000/54000 [==============================] - 59s 1ms/sample - loss: 0.4208 - acc: 0.9757 - val_loss: 0.3471 - val_acc: 0.9828\n",
            "Epoch 4/20\n",
            "54000/54000 [==============================] - 59s 1ms/sample - loss: 0.3164 - acc: 0.9829 - val_loss: 0.2694 - val_acc: 0.9868\n",
            "Epoch 5/20\n",
            "54000/54000 [==============================] - 59s 1ms/sample - loss: 0.2423 - acc: 0.9878 - val_loss: 0.2155 - val_acc: 0.9887\n",
            "Epoch 6/20\n",
            "54000/54000 [==============================] - 59s 1ms/sample - loss: 0.1920 - acc: 0.9899 - val_loss: 0.1943 - val_acc: 0.9860\n",
            "Epoch 7/20\n",
            "54000/54000 [==============================] - 59s 1ms/sample - loss: 0.1549 - acc: 0.9904 - val_loss: 0.1489 - val_acc: 0.9888\n",
            "Epoch 8/20\n",
            "54000/54000 [==============================] - 59s 1ms/sample - loss: 0.1239 - acc: 0.9923 - val_loss: 0.1173 - val_acc: 0.9927\n",
            "Epoch 9/20\n",
            "54000/54000 [==============================] - 59s 1ms/sample - loss: 0.0995 - acc: 0.9934 - val_loss: 0.1060 - val_acc: 0.9918\n",
            "Epoch 10/20\n",
            "54000/54000 [==============================] - 59s 1ms/sample - loss: 0.0815 - acc: 0.9941 - val_loss: 0.0873 - val_acc: 0.9918\n",
            "Epoch 11/20\n",
            "54000/54000 [==============================] - 59s 1ms/sample - loss: 0.0667 - acc: 0.9950 - val_loss: 0.0725 - val_acc: 0.9933\n",
            "Epoch 12/20\n",
            "54000/54000 [==============================] - 57s 1ms/sample - loss: 0.0613 - acc: 0.9944 - val_loss: 0.0770 - val_acc: 0.9905\n",
            "Epoch 13/20\n",
            "54000/54000 [==============================] - 59s 1ms/sample - loss: 0.0506 - acc: 0.9950 - val_loss: 0.0619 - val_acc: 0.9915\n",
            "Epoch 14/20\n",
            "54000/54000 [==============================] - 59s 1ms/sample - loss: 0.0409 - acc: 0.9957 - val_loss: 0.0502 - val_acc: 0.9935\n",
            "Epoch 15/20\n",
            "54000/54000 [==============================] - 59s 1ms/sample - loss: 0.0405 - acc: 0.9953 - val_loss: 0.0611 - val_acc: 0.9922\n",
            "Epoch 16/20\n",
            "54000/54000 [==============================] - 59s 1ms/sample - loss: 0.0390 - acc: 0.9951 - val_loss: 0.0667 - val_acc: 0.9892\n",
            "Epoch 17/20\n",
            "54000/54000 [==============================] - 60s 1ms/sample - loss: 0.0298 - acc: 0.9965 - val_loss: 0.0423 - val_acc: 0.9935\n",
            "Epoch 18/20\n",
            "54000/54000 [==============================] - 59s 1ms/sample - loss: 0.0317 - acc: 0.9956 - val_loss: 0.0575 - val_acc: 0.9915\n",
            "Epoch 19/20\n",
            "54000/54000 [==============================] - 60s 1ms/sample - loss: 0.0296 - acc: 0.9961 - val_loss: 0.0420 - val_acc: 0.9943\n",
            "Epoch 20/20\n",
            "54000/54000 [==============================] - 59s 1ms/sample - loss: 0.0228 - acc: 0.9969 - val_loss: 0.0435 - val_acc: 0.9920\n",
            "6000/6000 [==============================] - 5s 777us/sample - loss: 0.0435 - acc: 0.9920\n",
            "10000/10000 [==============================] - 8s 781us/sample - loss: 0.0458 - acc: 0.9921\n",
            "Valid: loss 0.0434710578918457 acc 0.9919999837875366 -- Test: loss 0.04578950992673635 valid 0.9921000003814697\n",
            "\n",
            "best model: \n",
            "6000/6000 [==============================] - 5s 774us/sample - loss: 0.0420 - acc: 0.9943\n",
            "10000/10000 [==============================] - 8s 783us/sample - loss: 0.0367 - acc: 0.9942\n",
            "Valid: loss 0.041951193938652674, acc 0.9943333268165588 -- Test: loss 0.03673806434720755, valid 0.9941999912261963\n"
          ],
          "name": "stdout"
        }
      ]
    }
  ]
}