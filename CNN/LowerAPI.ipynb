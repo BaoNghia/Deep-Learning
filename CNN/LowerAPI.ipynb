{
  "nbformat": 4,
  "nbformat_minor": 0,
  "metadata": {
    "kernelspec": {
      "display_name": "Python 3",
      "language": "python",
      "name": "python3"
    },
    "language_info": {
      "codemirror_mode": {
        "name": "ipython",
        "version": 3
      },
      "file_extension": ".py",
      "mimetype": "text/x-python",
      "name": "python",
      "nbconvert_exporter": "python",
      "pygments_lexer": "ipython3",
      "version": "3.7.2"
    },
    "colab": {
      "name": "Lab02.ipynb",
      "provenance": [],
      "collapsed_sections": []
    }
  },
  "cells": [
    {
      "cell_type": "markdown",
      "metadata": {
        "id": "OvDm4oU-mY3t",
        "colab_type": "text"
      },
      "source": [
        "# Lower API\n",
        "\n",
        "\n",
        "- Thiết kế layer trong Keras\n",
        "    - Kiểm soát các công thức toán học, những tham số của layer"
      ]
    },
    {
      "cell_type": "markdown",
      "metadata": {
        "id": "GiB9hhk3mY3y",
        "colab_type": "text"
      },
      "source": [
        "## Import thư viện và đọc data"
      ]
    },
    {
      "cell_type": "code",
      "metadata": {
        "id": "coTg72HvmY30",
        "colab_type": "code",
        "outputId": "e8caca54-6f97-4c70-ad8d-109fbf4f5bec",
        "colab": {
          "base_uri": "https://localhost:8080/",
          "height": 34
        }
      },
      "source": [
        "#import thư viện cần thiết\n",
        "## thư viện machine learning và hỗ trợ\n",
        "import tensorflow as tf\n",
        "from tensorflow import keras\n",
        "import numpy as np\n",
        "\n",
        "## thư viện để vẽ đồ thị\n",
        "import matplotlib.pyplot as plt\n",
        "\n",
        "## import thư viện backend, hỗ trợ nhũng hàm của keras\n",
        "from keras import backend as K"
      ],
      "execution_count": 0,
      "outputs": [
        {
          "output_type": "stream",
          "text": [
            "Using TensorFlow backend.\n"
          ],
          "name": "stderr"
        }
      ]
    },
    {
      "cell_type": "code",
      "metadata": {
        "id": "QEzJSjAvmY35",
        "colab_type": "code",
        "outputId": "ebc78164-810a-4095-87db-d3588fe60557",
        "colab": {
          "base_uri": "https://localhost:8080/",
          "height": 403
        }
      },
      "source": [
        "# Tải dataset MNIST từ tensorflow\n",
        "## MNIST là bài toán dự đoán một ảnh thể hiện ký tự số nào\n",
        "\n",
        "## tải MNIST dataset từ keras\n",
        "(X_train, y_train), (X_test, y_test) = keras.datasets.mnist.load_data()\n",
        "##resacle ảnh thành ảnh thực trong đoạn [0,1]\n",
        "X_train, X_test = X_train/255.0, X_test/255.0\n",
        "\n",
        "##in dataset\n",
        "print(X_train.shape, y_train.shape, X_test.shape, y_test.shape)\n",
        "print(\"Có 60000 ảnh dùng để train và valid, 10000 ảnh dùng để test\")\n",
        "print(\"Mỗi ảnh có một kênh màu, kích thước 28x28\")\n",
        "print()\n",
        "\n",
        "## in thử ảnh một ảnh\n",
        "print(\"Ảnh đầu tiên của tập train\")\n",
        "print(\"Label đầu tiên của tập train: \", y_train[0])\n",
        "plt.imshow(X_train[0], cmap='gray')\n",
        "plt.show()\n",
        "\n",
        "#Tách một phần tập train thành tập valid\n",
        "from sklearn.model_selection import train_test_split\n",
        "X_train, X_valid, y_train, y_valid = train_test_split(X_train, y_train, test_size=0.1)"
      ],
      "execution_count": 0,
      "outputs": [
        {
          "output_type": "stream",
          "text": [
            "Downloading data from https://storage.googleapis.com/tensorflow/tf-keras-datasets/mnist.npz\n",
            "11493376/11490434 [==============================] - 0s 0us/step\n",
            "(60000, 28, 28) (60000,) (10000, 28, 28) (10000,)\n",
            "Có 60000 ảnh dùng để train và valid, 10000 ảnh dùng để test\n",
            "Mỗi ảnh có một kênh màu, kích thước 28x28\n",
            "\n",
            "Ảnh đầu tiên của tập train\n",
            "Label đầu tiên của tập train:  5\n"
          ],
          "name": "stdout"
        },
        {
          "output_type": "display_data",
          "data": {
            "image/png": "[encoded data removed]",
            "text/plain": [
              "<Figure size 432x288 with 1 Axes>"
            ]
          },
          "metadata": {
            "tags": []
          }
        }
      ]
    },
    {
      "cell_type": "markdown",
      "metadata": {
        "id": "roDs_ap-mY39",
        "colab_type": "text"
      },
      "source": [
        "## Custom Layer Keras\n",
        "\n",
        "\n",
        "Để tùy chỉnh một layer của Keras cách tốt nhất là viết một lớp con của lớp keras.Layers.Layer trong đó cần override những hàm:\n",
        "- \\_\\_init__: khởi tạo, lưu tham số cho layer\n",
        "- build: thiết lập layer dựa vào shape của input, khai báo các biến, các layer ở hàm này\n",
        "- call: cài đặt những tính toán feedforward\n"
      ]
    },
    {
      "cell_type": "markdown",
      "metadata": {
        "id": "_UxvBfTqmY4H",
        "colab_type": "text"
      },
      "source": [
        "## Bài tập\n",
        "1. Hãy xây dựng custom layer \n",
        "\n",
        "```python\n",
        "class DoubleFullyConnectedLayer(keras.layers.Layer):\n",
        "    \n",
        "    def __init__(self, n_units_1, n_units_2, activation):\n",
        "```\n",
        "\n",
        "gồm:\n",
        "    - 2 lớp Dense chồng nhau: lớp đầu có số neuron là n_units_1, lớp còn lại có số neuron là n_units_2\n",
        "    - Tự khai báo các biến và thiết lập các phép toán như lớp FullyConnectedLayer ở trên\n",
        "2. Với lớp được định nghĩa, vãy xây dựng và huấn luyện một model có cấu trúc như sau:\n",
        "    - Đoán xem trong lớp DoubleFullyConnectedLayer tham số n_units_1 và n_units_2 bằng bao nhiêu?\n",
        "    \n",
        "```\n",
        "_________________________________________________________________\n",
        "Layer (type)                 Output Shape              Param #   \n",
        "=================================================================\n",
        "input_1 (InputLayer)         (None, 28, 28)            0         \n",
        "_________________________________________________________________\n",
        "reshape_1 (Reshape)          (None, 28, 28, 1)         0         \n",
        "_________________________________________________________________\n",
        "conv_maxpool_block_1 (ConvMa (None, 14, 14, 20)        520       \n",
        "_________________________________________________________________\n",
        "conv_maxpool_block_2 (ConvMa (None, 7, 7, 20)          10020     \n",
        "_________________________________________________________________\n",
        "flatten_1 (Flatten)          (None, 980)               0         \n",
        "_________________________________________________________________\n",
        "double_fully_connected_layer (None, 10)                99110     \n",
        "=================================================================\n",
        "Total params: 109,650\n",
        "Trainable params: 109,650\n",
        "Non-trainable params: 0\n",
        "_________________________________________________________________\n",
        "```\n"
      ]
    },
    {
      "cell_type": "code",
      "metadata": {
        "id": "wkN9xnlFmY4I",
        "colab_type": "code",
        "outputId": "015507d6-f2f3-4dde-dd20-c853395c115a",
        "colab": {
          "base_uri": "https://localhost:8080/",
          "height": 222
        }
      },
      "source": [
        "class DoubleFullyConnectedLayer(keras.layers.Layer):\n",
        "    def __init__(self, n_units_1 = 10, n_units_2 = 10, activation=tf.nn.sigmoid):\n",
        "        \n",
        "        # gọi hàm khởi tạo của lớp cha\n",
        "        super(DoubleFullyConnectedLayer, self).__init__()\n",
        "       \n",
        "        # lưu lại số nơ-ron của lớp này\n",
        "        self.n_units_1 = n_units_1\n",
        "        self.activation_function = activation\n",
        "        self.n_units_2 = n_units_2\n",
        "        self.activation_function = activation\n",
        "\n",
        "    def build(self, input_shape):\n",
        "        #  print(\"build called\")\n",
        "        ## input_shape: là shape của input của layer này\n",
        "        ## tham số này là bắt buộc\n",
        "        \n",
        "        ### Tạo biến có kích thước [input_shape[-1], self.n_units],\n",
        "        ### các giá trị biến tạo ngẫu nhiên theo phân phối chuẩn mean = 0, std = 0.01\n",
        "        \n",
        "        self.kernel1 = self.add_variable(name='kernel1',\n",
        "                                        shape=[int(input_shape[-1]), self.n_units_1],\n",
        "                                        initializer=keras.initializers.RandomNormal(mean=0.0, stddev=0.01))\n",
        "        \n",
        "        ## Tương tự, khai báo một vector bias\n",
        "        self.bias1 = self.add_variable(name='bias1',\n",
        "                                      shape=[self.n_units_1],\n",
        "                                      initializer=keras.initializers.Ones())\n",
        "        \n",
        "        self.kernel2 = self.add_variable(name='kernel2',\n",
        "                                        shape=[int(self.n_units_1), self.n_units_2],\n",
        "                                        initializer=keras.initializers.RandomNormal(mean=0.0, stddev=0.01))\n",
        "        \n",
        "        ## Tương tự, khai báo một vector bias\n",
        "        self.bias2 = self.add_variable(name='bias2',\n",
        "                                      shape=[self.n_units_2],\n",
        "                                      initializer=keras.initializers.Ones())\n",
        "\n",
        "        \n",
        "    def call(self, inputs):\n",
        "        # print(\"call called\")\n",
        "\n",
        "        ## input chính là một lớp keras (hoặc tensor) truyền vào layer này\n",
        "        ## tham số input là bắt buộc\n",
        "        \n",
        "        ## Công thức toán học của lớp này\n",
        "        ## tensorflow có hỗ broadcasting nên self.bias sẽ được cộng vào từng dòng của ma trận\n",
        "        matmul1 = tf.matmul(inputs, self.kernel1) + self.bias1\n",
        "        outputs1 = self.activation_function(matmul1)  ##áp dụng hàm kích hoạt\n",
        "        \n",
        "        matmul2 = tf.matmul(outputs1, self.kernel2) + self.bias2\n",
        "        outputs = tf.nn.softmax(matmul2)\n",
        "        return outputs\n",
        "\n",
        "## Xem kích thước của layer với input là vector (300,)\n",
        "inputs = keras.layers.Input(shape=(300,))\n",
        "conv = DoubleFullyConnectedLayer(n_units_1=100, n_units_2 = 10)      ## hàm __init__ được gọi\n",
        "conv_output = conv(inputs)                  ## hàm build và call được gọi\n",
        "\n",
        "## In các biến train được của layer\n",
        "## conv.trainable_variables trả về một list các biến train được của layer\n",
        "print(conv.trainable_variables)\n",
        "# ## In output của layer\n",
        "print(conv_output.shape)"
      ],
      "execution_count": 0,
      "outputs": [
        {
          "output_type": "stream",
          "text": [
            "WARNING:tensorflow:From /usr/local/lib/python3.6/dist-packages/tensorflow_core/python/keras/initializers.py:143: calling RandomNormal.__init__ (from tensorflow.python.ops.init_ops) with dtype is deprecated and will be removed in a future version.\n",
            "Instructions for updating:\n",
            "Call initializer instance with the dtype argument instead of passing it to the constructor\n",
            "WARNING:tensorflow:From <ipython-input-3-624efc82dc1f>:23: Layer.add_variable (from tensorflow.python.keras.engine.base_layer) is deprecated and will be removed in a future version.\n",
            "Instructions for updating:\n",
            "Please use `layer.add_weight` method instead.\n",
            "WARNING:tensorflow:From /usr/local/lib/python3.6/dist-packages/tensorflow_core/python/ops/resource_variable_ops.py:1630: calling BaseResourceVariable.__init__ (from tensorflow.python.ops.resource_variable_ops) with constraint is deprecated and will be removed in a future version.\n",
            "Instructions for updating:\n",
            "If using Keras pass *_constraint arguments to layers.\n",
            "[<tf.Variable 'double_fully_connected_layer/kernel1:0' shape=(300, 100) dtype=float32>, <tf.Variable 'double_fully_connected_layer/bias1:0' shape=(100,) dtype=float32>, <tf.Variable 'double_fully_connected_layer/kernel2:0' shape=(100, 10) dtype=float32>, <tf.Variable 'double_fully_connected_layer/bias2:0' shape=(10,) dtype=float32>]\n",
            "(?, 10)\n"
          ],
          "name": "stdout"
        }
      ]
    },
    {
      "cell_type": "code",
      "metadata": {
        "id": "AtAXsMFwaAC-",
        "colab_type": "code",
        "outputId": "2db1443c-d93a-47e5-99a7-70a8b058a9e8",
        "colab": {
          "base_uri": "https://localhost:8080/",
          "height": 138
        }
      },
      "source": [
        "class ConvMaxpoolBlock(keras.layers.Layer):\n",
        "    ## Lớp này sẽ xây dựng lớp convolutional layer và maxpooling\n",
        "    \n",
        "    \n",
        "    def __init__(self, filter_size, n_filters):\n",
        "        ## filter_size sẽ dùng như là kích thước của filter của lớp convolution\n",
        "        ## là một list 2 phần tử\n",
        "        ## n_filters là số filter của lớp convolution\n",
        "        ## là một số nguyên\n",
        "        \n",
        "        # gọi hàm khởi tạo của lớp cha\n",
        "        super(ConvMaxpoolBlock, self).__init__()\n",
        "        # lưu lại mấy thông số\n",
        "        self.filter_size = filter_size\n",
        "        self.n_filters = n_filters\n",
        "        \n",
        "    def build(self, input_shape):\n",
        "        ## ta giả sử input là một tensor (layer) có kích thước [None, height, weight, n_channels]\n",
        "        \n",
        "        ## khởi tạo và khai báo kernel\n",
        "        self.kernel = self.add_variable(name='kernel',\n",
        "                                        shape=[self.filter_size[0], self.filter_size[1], int(input_shape[-1]), self.n_filters],\n",
        "                                        initializer=keras.initializers.RandomNormal(mean=0.0, stddev=0.05))\n",
        "        \n",
        "        ## khởi tạo và khai báo bias\n",
        "        self.bias = self.add_variable(name='bias',\n",
        "                                      shape=[self.n_filters],\n",
        "                                      initializer=keras.initializers.Ones())\n",
        "        \n",
        "    def call(self, inputs):\n",
        "        ## phép toán tích chập\n",
        "        conv = K.conv2d(x=inputs, kernel=self.kernel, padding='same')\n",
        "        ## cộng bias (có broadcasting hỗ trợ nên lập trình đơn giản)\n",
        "        conv = conv + self.bias\n",
        "        ## áp dụng hàm kích hoạt\n",
        "        conv = tf.nn.relu(conv)\n",
        "        ## áp dụng maxpooling\n",
        "        maxpool = K.pool2d(conv, pool_size=(2,2), strides=(2,2), pool_mode='max')\n",
        "        return maxpool\n",
        "\n",
        "## Thử xem những tham số và kích thước của layer với input là ảnh (300,300,3)\n",
        "inputs = keras.layers.Input(shape=(300,300,3))\n",
        "conv = ConvMaxpoolBlock(filter_size=[5,5], n_filters=10)  ##hàm __init__ được gọi\n",
        "conv_output = conv(inputs)                                ##hàm build và call được gọi\n",
        "\n",
        "## In các biến train được của layer\n",
        "print(conv.trainable_variables)\n",
        "## In output của layer\n",
        "print(conv_output.shape)"
      ],
      "execution_count": 0,
      "outputs": [
        {
          "output_type": "stream",
          "text": [
            "WARNING:tensorflow:From /usr/local/lib/python3.6/dist-packages/tensorflow_core/python/autograph/converters/directives.py:119: The name tf.nn.max_pool is deprecated. Please use tf.nn.max_pool2d instead.\n",
            "\n",
            "WARNING:tensorflow:From /usr/local/lib/python3.6/dist-packages/tensorflow_core/python/autograph/converters/directives.py:119: The name tf.nn.avg_pool is deprecated. Please use tf.nn.avg_pool2d instead.\n",
            "\n",
            "[<tf.Variable 'conv_maxpool_block/kernel:0' shape=(5, 5, 3, 10) dtype=float32>, <tf.Variable 'conv_maxpool_block/bias:0' shape=(10,) dtype=float32>]\n",
            "(?, 150, 150, 10)\n"
          ],
          "name": "stdout"
        }
      ]
    },
    {
      "cell_type": "code",
      "metadata": {
        "id": "u1bWeBdKR7vu",
        "colab_type": "code",
        "outputId": "c850d004-9e72-4329-ea1c-f5f8b4aaa870",
        "colab": {
          "base_uri": "https://localhost:8080/",
          "height": 50
        }
      },
      "source": [
        "inputs = keras.layers.Input(shape=(28,28))\n",
        "print(\"Kích thước input: {}\".format(inputs.shape)) # dấu '?' tượng trưng cho số lượng ảnh một batch không xác định trước\"\n",
        "inputs_reshape = keras.layers.Reshape((28,28,1))(inputs)\n",
        "print(\"Kích thước sau reshape: {}\".format(inputs_reshape.shape))"
      ],
      "execution_count": 0,
      "outputs": [
        {
          "output_type": "stream",
          "text": [
            "Kích thước input: (?, 28, 28)\n",
            "Kích thước sau reshape: (?, 28, 28, 1)\n"
          ],
          "name": "stdout"
        }
      ]
    },
    {
      "cell_type": "code",
      "metadata": {
        "id": "nS37Z4B8SoUL",
        "colab_type": "code",
        "outputId": "7bc27d91-cf1f-42db-b149-a42281a3bfd5",
        "colab": {
          "base_uri": "https://localhost:8080/",
          "height": 84
        }
      },
      "source": [
        "conv_maxpool_block_1 = ConvMaxpoolBlock(filter_size=[5,5], n_filters=20)\n",
        "conv_output1 = conv_maxpool_block_1(inputs_reshape)\n",
        "print(\"Kích thước conv1: {}, chiều cuối cùng chính là số filter\".format(conv_output1.shape))\n",
        "\n",
        "conv_maxpool_block_2 = ConvMaxpoolBlock(filter_size=[5,5], n_filters=20)\n",
        "conv_output2 = conv_maxpool_block_2(conv_output1)\n",
        "print(\"Kích thước conv2: {}, chiều cuối cùng chính là số filter\".format(conv_output2.shape))\n",
        "\n",
        "flatten = keras.layers.Flatten()(conv_output2)\n",
        "print(\"Kích thước flatten: {}\".format(flatten.shape))\n",
        "\n",
        "\n",
        "softmax = DoubleFullyConnectedLayer(n_units_1=100, n_units_2 = 10)\n",
        "softmax_output = softmax(flatten)\n",
        "print(\"Kích thước dense: {}\".format(softmax_output.shape))"
      ],
      "execution_count": 0,
      "outputs": [
        {
          "output_type": "stream",
          "text": [
            "Kích thước conv1: (?, 14, 14, 20), chiều cuối cùng chính là số filter\n",
            "Kích thước conv2: (?, 7, 7, 20), chiều cuối cùng chính là số filter\n",
            "Kích thước flatten: (?, 980)\n",
            "Kích thước dense: (?, 10)\n"
          ],
          "name": "stdout"
        }
      ]
    },
    {
      "cell_type": "code",
      "metadata": {
        "id": "glaEY1DYYqYs",
        "colab_type": "code",
        "outputId": "1a1e1751-73d6-46b5-9aac-9bd07c4fd907",
        "colab": {
          "base_uri": "https://localhost:8080/",
          "height": 370
        }
      },
      "source": [
        "model = keras.models.Model(inputs=inputs, outputs= softmax_output)\n",
        "\n",
        "model.compile(optimizer='adam',\n",
        "             loss=tf.keras.losses.sparse_categorical_crossentropy,\n",
        "             metrics=[\"accuracy\"])\n",
        "\n",
        "print(\"Cấu trúc của model: \")\n",
        "model.summary()"
      ],
      "execution_count": 0,
      "outputs": [
        {
          "output_type": "stream",
          "text": [
            "Cấu trúc của model: \n",
            "Model: \"model\"\n",
            "_________________________________________________________________\n",
            "Layer (type)                 Output Shape              Param #   \n",
            "=================================================================\n",
            "input_3 (InputLayer)         [(None, 28, 28)]          0         \n",
            "_________________________________________________________________\n",
            "reshape (Reshape)            (None, 28, 28, 1)         0         \n",
            "_________________________________________________________________\n",
            "conv_maxpool_block_1 (ConvMa (None, 14, 14, 20)        520       \n",
            "_________________________________________________________________\n",
            "conv_maxpool_block_2 (ConvMa (None, 7, 7, 20)          10020     \n",
            "_________________________________________________________________\n",
            "flatten (Flatten)            (None, 980)               0         \n",
            "_________________________________________________________________\n",
            "double_fully_connected_layer (None, 10)                99110     \n",
            "=================================================================\n",
            "Total params: 109,650\n",
            "Trainable params: 109,650\n",
            "Non-trainable params: 0\n",
            "_________________________________________________________________\n"
          ],
          "name": "stdout"
        }
      ]
    },
    {
      "cell_type": "code",
      "metadata": {
        "id": "-zSSAxEGboyU",
        "colab_type": "code",
        "outputId": "ce7041fe-d587-4d7e-d4b4-5e735f4aa64f",
        "colab": {
          "base_uri": "https://localhost:8080/",
          "height": 202
        }
      },
      "source": [
        "history = model.fit(X_train, y_train,\n",
        "                    batch_size=50,\n",
        "                    epochs=5,\n",
        "                    validation_data=(X_valid, y_valid))"
      ],
      "execution_count": 0,
      "outputs": [
        {
          "output_type": "stream",
          "text": [
            "Train on 54000 samples, validate on 6000 samples\n",
            "Epoch 1/5\n",
            "54000/54000 [==============================] - 71s 1ms/sample - loss: 0.6583 - acc: 0.8054 - val_loss: 0.2004 - val_acc: 0.9433\n",
            "Epoch 2/5\n",
            "54000/54000 [==============================] - 71s 1ms/sample - loss: 0.1523 - acc: 0.9560 - val_loss: 0.1259 - val_acc: 0.9612\n",
            "Epoch 3/5\n",
            "54000/54000 [==============================] - 70s 1ms/sample - loss: 0.1118 - acc: 0.9670 - val_loss: 0.1083 - val_acc: 0.9653\n",
            "Epoch 4/5\n",
            "54000/54000 [==============================] - 71s 1ms/sample - loss: 0.0934 - acc: 0.9713 - val_loss: 0.0937 - val_acc: 0.9695\n",
            "Epoch 5/5\n",
            "54000/54000 [==============================] - 72s 1ms/sample - loss: 0.0808 - acc: 0.9761 - val_loss: 0.0934 - val_acc: 0.9698\n"
          ],
          "name": "stdout"
        }
      ]
    },
    {
      "cell_type": "code",
      "metadata": {
        "id": "LgxPM9rEbuBx",
        "colab_type": "code",
        "outputId": "42706726-45b6-4e48-f35a-c942fc0c542b",
        "colab": {
          "base_uri": "https://localhost:8080/",
          "height": 50
        }
      },
      "source": [
        "## Đánh giá model trên tập test\n",
        "test_loss, test_acc = model.evaluate(X_test, y_test)\n",
        "print(\"Accuracy trên tập test: \", test_acc)"
      ],
      "execution_count": 0,
      "outputs": [
        {
          "output_type": "stream",
          "text": [
            "10000/10000 [==============================] - 4s 399us/sample - loss: 0.0810 - acc: 0.9751\n",
            "Accuracy trên tập test:  0.9751\n"
          ],
          "name": "stdout"
        }
      ]
    }
  ]
}