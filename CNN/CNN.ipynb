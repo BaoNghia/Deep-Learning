{
  "nbformat": 4,
  "nbformat_minor": 0,
  "metadata": {
    "colab": {
      "name": "Lab01.ipynb",
      "provenance": [],
      "collapsed_sections": []
    },
    "kernelspec": {
      "name": "python3",
      "display_name": "Python 3"
    }
  },
  "cells": [
    {
      "cell_type": "code",
      "metadata": {
        "id": "ftibj7vdH3GC",
        "colab_type": "code",
        "outputId": "b212d645-10e9-44c8-f08b-f0de706e338f",
        "colab": {
          "base_uri": "https://localhost:8080/",
          "height": 34
        }
      },
      "source": [
        "import tensorflow as tf\n",
        "from tensorflow import keras\n",
        "import numpy as np\n",
        "\n",
        "## thư viện để vẽ đồ thị\n",
        "import matplotlib.pyplot as plt\n",
        "\n",
        "## import thư viện backend, hỗ trợ nhũng hàm của keras\n",
        "from keras import backend as K"
      ],
      "execution_count": 0,
      "outputs": [
        {
          "output_type": "stream",
          "text": [
            "Using TensorFlow backend.\n"
          ],
          "name": "stderr"
        }
      ]
    },
    {
      "cell_type": "code",
      "metadata": {
        "id": "V9y4Uz3aInyu",
        "colab_type": "code",
        "outputId": "c9428bf5-d03a-4ca7-f4ed-1a12bb8d102b",
        "colab": {
          "base_uri": "https://localhost:8080/",
          "height": 84
        }
      },
      "source": [
        "# Tải dataset MNIST từ tensorflow\n",
        "## MNIST là bài toán dự đoán một ảnh thể hiện ký tự số nào\n",
        "\n",
        "## tải MNIST dataset từ keras\n",
        "(X_train, y_train), (X_test, y_test) = keras.datasets.mnist.load_data()\n",
        "##resacle ảnh thành ảnh thực trong đoạn [0,1]\n",
        "X_train, X_test = X_train/255.0, X_test/255.0\n",
        "\n",
        "##in dataset\n",
        "print(X_train.shape, y_train.shape, X_test.shape, y_test.shape)\n",
        "print(\"Có 60000 ảnh dùng để train và valid, 10000 ảnh dùng để test\")\n",
        "print(\"Mỗi ảnh có một kênh màu, kích thước 28x28\")\n",
        "print()"
      ],
      "execution_count": 0,
      "outputs": [
        {
          "output_type": "stream",
          "text": [
            "(60000, 28, 28) (60000,) (10000, 28, 28) (10000,)\n",
            "Có 60000 ảnh dùng để train và valid, 10000 ảnh dùng để test\n",
            "Mỗi ảnh có một kênh màu, kích thước 28x28\n",
            "\n"
          ],
          "name": "stdout"
        }
      ]
    },
    {
      "cell_type": "code",
      "metadata": {
        "id": "l9VWR7qMJBqb",
        "colab_type": "code",
        "outputId": "05f62510-09fe-4236-ec3c-8ce71f67a459",
        "colab": {
          "base_uri": "https://localhost:8080/",
          "height": 302
        }
      },
      "source": [
        "## in thử ảnh một ảnh\n",
        "print(\"Ảnh đầu tiên của tập train\")\n",
        "print(\"Label đầu tiên của tập train: \", y_train[0])\n",
        "plt.imshow(X_train[0], cmap='gray')\n",
        "plt.show()\n",
        "\n",
        "#Tách một phần tập train thành tập valid\n",
        "from sklearn.model_selection import train_test_split\n",
        "X_train, X_valid, y_train, y_valid = train_test_split(X_train, y_train, test_size=0.1)"
      ],
      "execution_count": 0,
      "outputs": [
        {
          "output_type": "stream",
          "text": [
            "Ảnh đầu tiên của tập train\n",
            "Label đầu tiên của tập train:  5\n"
          ],
          "name": "stdout"
        },
        {
          "output_type": "display_data",
          "data": {
            "image/png": "[encoded data removed]",
            "text/plain": [
              "<Figure size 432x288 with 1 Axes>"
            ]
          },
          "metadata": {
            "tags": []
          }
        }
      ]
    },
    {
      "cell_type": "code",
      "metadata": {
        "id": "8bZ3tmUxMExz",
        "colab_type": "code",
        "outputId": "32d0413b-3e90-4357-daa3-699bcd716c6f",
        "colab": {
          "base_uri": "https://localhost:8080/",
          "height": 50
        }
      },
      "source": [
        "## Tạo layer input, mỗi data point có kích thước (28,28)\n",
        "inputs = keras.layers.Input(shape=(28,28))\n",
        "print(\"Kích thước input: {}\".format(inputs.shape)) # dấu '?' tượng trưng cho số lượng ảnh một batch không xác định trước\"\n",
        "\n",
        "## Reshape input\n",
        "## do input vào lớp convolutional layer cần có 4 chiều, chiều cuối là số kênh,\n",
        "## ảnh mnist là ảnh xám nên chỉ có một kênh\n",
        "inputs_reshape = keras.layers.Reshape((28,28,1))(inputs)\n",
        "print(\"Kích thước sau reshape: {}\".format(inputs_reshape.shape))\n"
      ],
      "execution_count": 0,
      "outputs": [
        {
          "output_type": "stream",
          "text": [
            "Kích thước input: (?, 28, 28)\n",
            "Kích thước sau reshape: (?, 28, 28, 1)\n"
          ],
          "name": "stdout"
        }
      ]
    },
    {
      "cell_type": "code",
      "metadata": {
        "id": "qdoRXlg2MErq",
        "colab_type": "code",
        "outputId": "d56af67d-c747-4848-ae56-84fe85a8c462",
        "colab": {
          "base_uri": "https://localhost:8080/",
          "height": 67
        }
      },
      "source": [
        "## Tạo Convolutional Layer\n",
        "### fileters: số lượng filter\n",
        "### kernel_size: kích thước của filter\n",
        "### strides: bước dịch của filter khi tính convolution\n",
        "### padding: thêm số 0 hoặc không tính khi tính filter ở biên\n",
        "### activation: hàm kích hoạt của lớp convolution\n",
        "conv = keras.layers.Convolution2D(filters=20,\n",
        "                                 kernel_size=[5,5],\n",
        "                                 strides=[1,1],\n",
        "                                 padding='same',\n",
        "                                 activation=tf.nn.relu)(inputs_reshape)\n",
        "print(\"Kích thước conv: {}, chiều cuối cùng chính là số filter\".format(conv.shape))\n",
        "\n",
        "## Maxpooling\n",
        "## pool_size: kích thước pool để lấy max\n",
        "## strides: bước dịch của pool \n",
        "maxpool = keras.layers.MaxPool2D(pool_size=[2,2])(conv)\n",
        "print(\"Kích thước sau maxpool: {}\".format(maxpool.shape))\n",
        "\n",
        "## Flatten lớp conv trước khi cho vào lớp dense, vì lớp dense yêu cầu input chỉ là vector\n",
        "flatten = keras.layers.Flatten()(maxpool)\n",
        "print(\"Kích thước flatten: {}\".format(flatten.shape))"
      ],
      "execution_count": 0,
      "outputs": [
        {
          "output_type": "stream",
          "text": [
            "Kích thước conv: (?, 28, 28, 20), chiều cuối cùng chính là số filter\n",
            "Kích thước sau maxpool: (?, 14, 14, 20)\n",
            "Kích thước flatten: (?, 3920)\n"
          ],
          "name": "stdout"
        }
      ]
    },
    {
      "cell_type": "code",
      "metadata": {
        "id": "oVkTOLReQT52",
        "colab_type": "code",
        "outputId": "1ba7a5eb-2358-4fbb-befe-4acc1924bef2",
        "colab": {
          "base_uri": "https://localhost:8080/",
          "height": 370
        }
      },
      "source": [
        "## Lớp Fully conntected với hàm kích hoạt softmax\n",
        "softmax = keras.layers.Dense(units=10, activation='softmax')(flatten)\n",
        "\n",
        "## Tạo model, với input là lớp inputs, outputs là lớp softmax\n",
        "model = keras.models.Model(inputs=inputs, outputs=softmax)\n",
        "\n",
        "## Compile model, \n",
        "### optimizer là adam \n",
        "### loss function là sparse_categorical_crossentropy\n",
        "### metrics: để theo dõi các đánh giá trong quá trình huấn luyện\n",
        "model.compile(optimizer='adam',\n",
        "             loss=tf.keras.losses.sparse_categorical_crossentropy,\n",
        "             metrics=[\"accuracy\"])\n",
        "    \n",
        "\n",
        "## In toàn bộ cấu trúc của model\n",
        "print(\"Cấu trúc của model: \")\n",
        "model.summary()"
      ],
      "execution_count": 0,
      "outputs": [
        {
          "output_type": "stream",
          "text": [
            "Cấu trúc của model: \n",
            "Model: \"model_8\"\n",
            "_________________________________________________________________\n",
            "Layer (type)                 Output Shape              Param #   \n",
            "=================================================================\n",
            "input_2 (InputLayer)         [(None, 28, 28)]          0         \n",
            "_________________________________________________________________\n",
            "reshape_1 (Reshape)          (None, 28, 28, 1)         0         \n",
            "_________________________________________________________________\n",
            "conv2d_11 (Conv2D)           (None, 28, 28, 20)        520       \n",
            "_________________________________________________________________\n",
            "max_pooling2d_10 (MaxPooling (None, 14, 14, 20)        0         \n",
            "_________________________________________________________________\n",
            "flatten_9 (Flatten)          (None, 3920)              0         \n",
            "_________________________________________________________________\n",
            "dense_9 (Dense)              (None, 10)                39210     \n",
            "=================================================================\n",
            "Total params: 39,730\n",
            "Trainable params: 39,730\n",
            "Non-trainable params: 0\n",
            "_________________________________________________________________\n"
          ],
          "name": "stdout"
        }
      ]
    },
    {
      "cell_type": "code",
      "metadata": {
        "id": "2TSe4xfCD4z2",
        "colab_type": "code",
        "outputId": "b77b88e8-83f0-4e42-f280-d82acbbfa651",
        "colab": {
          "base_uri": "https://localhost:8080/",
          "height": 235
        }
      },
      "source": [
        "# Dùng hàm fit để bắt đầu train\n",
        "## 2 tham số đầu là 2 numpy array, X_train là ảnh, y_train là label\n",
        "## batch_size: kích thước của data batch\n",
        "## epochs: số epoch tối đa muốn chạy\n",
        "## validation data: model sẽ được đánh giá trên tập valid mỗi epoch\n",
        "\n",
        "history = model.fit(X_train, y_train,\n",
        "                    batch_size=50,\n",
        "                    epochs=5,\n",
        "                    validation_data=(X_valid, y_valid))\n",
        "\n",
        "## Lưu model thành một file\n",
        "model.save_weights(\"first_model.h5\")\n",
        "\n",
        "\n",
        "## Load model\n",
        "model.load_weights(\"first_model.h5\")\n",
        "\n",
        "## Đánh giá model trên tập test\n",
        "test_loss, test_acc = model.evaluate(X_test, y_test)\n",
        "print(\"Accuracy trên tập test: \", test_acc)"
      ],
      "execution_count": 0,
      "outputs": [
        {
          "output_type": "stream",
          "text": [
            "Train on 54000 samples, validate on 6000 samples\n",
            "Epoch 1/5\n",
            "54000/54000 [==============================] - 31s 575us/sample - loss: 0.2325 - acc: 0.9340 - val_loss: 0.1055 - val_acc: 0.9683\n",
            "Epoch 2/5\n",
            "54000/54000 [==============================] - 31s 575us/sample - loss: 0.0805 - acc: 0.9767 - val_loss: 0.0795 - val_acc: 0.9763\n",
            "Epoch 3/5\n",
            "54000/54000 [==============================] - 31s 574us/sample - loss: 0.0605 - acc: 0.9824 - val_loss: 0.0684 - val_acc: 0.9795\n",
            "Epoch 4/5\n",
            "54000/54000 [==============================] - 30s 562us/sample - loss: 0.0493 - acc: 0.9850 - val_loss: 0.0663 - val_acc: 0.9788\n",
            "Epoch 5/5\n",
            "54000/54000 [==============================] - 30s 563us/sample - loss: 0.0422 - acc: 0.9874 - val_loss: 0.0576 - val_acc: 0.9827\n",
            "10000/10000 [==============================] - 3s 275us/sample - loss: 0.0487 - acc: 0.9842\n",
            "Accuracy trên tập test:  0.9842\n"
          ],
          "name": "stdout"
        }
      ]
    },
    {
      "cell_type": "code",
      "metadata": {
        "id": "cBnZtzv1F-64",
        "colab_type": "code",
        "outputId": "1ed3a63a-2112-40b6-b65c-5c842e2b58d9",
        "colab": {
          "base_uri": "https://localhost:8080/",
          "height": 487
        }
      },
      "source": [
        "# Convolution\n",
        "conv2 = keras.layers.Convolution2D(filters=20,\n",
        "                                 kernel_size=[5,5],\n",
        "                                 strides=[1,1],\n",
        "                                 padding='same',\n",
        "                                 activation=tf.nn.relu)(maxpool)\n",
        "print(\"Kích thước conv: {}, chiều cuối cùng chính là số filter\".format(conv2.shape))\n",
        "\n",
        "# Maxpool\n",
        "maxpool2 = keras.layers.MaxPool2D(pool_size=[2,2])(conv2)\n",
        "print(\"Kích thước sau maxpool: {}\".format(maxpool2.shape))\n",
        "\n",
        "## Flatten lớp conv trước khi cho vào lớp dense, vì lớp dense yêu cầu input chỉ là vector\n",
        "flatten2 = keras.layers.Flatten()(maxpool2)\n",
        "print(\"Kích thước flatten: {}\".format(flatten2.shape))\n",
        "\n",
        "## Lớp Fully conntected với hàm kích hoạt softmax\n",
        "softmax2 = keras.layers.Dense(units=10, activation='softmax')(flatten2)\n",
        "\n",
        "## Tạo model, với input là lớp inputs, outputs là lớp softmax\n",
        "model2 = keras.models.Model(inputs=inputs, outputs=softmax2)\n",
        "\n",
        "## Compile model, \n",
        "### optimizer là adam \n",
        "### loss function là sparse_categorical_crossentropy\n",
        "### metrics: để theo dõi các đánh giá trong quá trình huấn luyện\n",
        "model2.compile(optimizer='adam',\n",
        "             loss=tf.keras.losses.sparse_categorical_crossentropy,\n",
        "             metrics=[\"accuracy\"])\n",
        "\n",
        "## In toàn bộ cấu trúc của model\n",
        "print(\"Cấu trúc của model: \")\n",
        "model2.summary()"
      ],
      "execution_count": 0,
      "outputs": [
        {
          "output_type": "stream",
          "text": [
            "Kích thước conv: (?, 14, 14, 20), chiều cuối cùng chính là số filter\n",
            "Kích thước sau maxpool: (?, 7, 7, 20)\n",
            "Kích thước flatten: (?, 980)\n",
            "Cấu trúc của model: \n",
            "Model: \"model_10\"\n",
            "_________________________________________________________________\n",
            "Layer (type)                 Output Shape              Param #   \n",
            "=================================================================\n",
            "input_2 (InputLayer)         [(None, 28, 28)]          0         \n",
            "_________________________________________________________________\n",
            "reshape_1 (Reshape)          (None, 28, 28, 1)         0         \n",
            "_________________________________________________________________\n",
            "conv2d_11 (Conv2D)           (None, 28, 28, 20)        520       \n",
            "_________________________________________________________________\n",
            "max_pooling2d_10 (MaxPooling (None, 14, 14, 20)        0         \n",
            "_________________________________________________________________\n",
            "conv2d_13 (Conv2D)           (None, 14, 14, 20)        10020     \n",
            "_________________________________________________________________\n",
            "max_pooling2d_12 (MaxPooling (None, 7, 7, 20)          0         \n",
            "_________________________________________________________________\n",
            "flatten_11 (Flatten)         (None, 980)               0         \n",
            "_________________________________________________________________\n",
            "dense_11 (Dense)             (None, 10)                9810      \n",
            "=================================================================\n",
            "Total params: 20,350\n",
            "Trainable params: 20,350\n",
            "Non-trainable params: 0\n",
            "_________________________________________________________________\n"
          ],
          "name": "stdout"
        }
      ]
    },
    {
      "cell_type": "code",
      "metadata": {
        "id": "_WYPrTRbGqBS",
        "colab_type": "code",
        "outputId": "c4853d23-f381-466d-934f-b94f142470e3",
        "colab": {
          "base_uri": "https://localhost:8080/",
          "height": 235
        }
      },
      "source": [
        "# Dùng hàm fit để bắt đầu train\n",
        "## 2 tham số đầu là 2 numpy array, X_train là ảnh, y_train là label\n",
        "## batch_size: kích thước của data batch\n",
        "## epochs: số epoch tối đa muốn chạy\n",
        "## validation data: model sẽ được đánh giá trên tập valid mỗi epoch\n",
        "history2 = model2.fit(X_train, y_train,\n",
        "                    batch_size=50,\n",
        "                    epochs=5,\n",
        "                    validation_data=(X_valid, y_valid))\n",
        "\n",
        "## Lưu model thành một file\n",
        "model.save_weights(\"second_model.h5\")\n",
        "\n",
        "\n",
        "## Load model\n",
        "model.load_weights(\"second_model.h5\")\n",
        "\n",
        "## Đánh giá model trên tập test\n",
        "test_loss, test_acc = model2.evaluate(X_test, y_test)\n",
        "print(\"Accuracy trên tập test: \", test_acc)"
      ],
      "execution_count": 0,
      "outputs": [
        {
          "output_type": "stream",
          "text": [
            "Train on 54000 samples, validate on 6000 samples\n",
            "Epoch 1/5\n",
            "54000/54000 [==============================] - 78s 1ms/sample - loss: 0.1377 - acc: 0.9597 - val_loss: 0.0627 - val_acc: 0.9795\n",
            "Epoch 2/5\n",
            "54000/54000 [==============================] - 80s 1ms/sample - loss: 0.0457 - acc: 0.9858 - val_loss: 0.0457 - val_acc: 0.9858\n",
            "Epoch 3/5\n",
            "54000/54000 [==============================] - 80s 1ms/sample - loss: 0.0346 - acc: 0.9892 - val_loss: 0.0470 - val_acc: 0.9857\n",
            "Epoch 4/5\n",
            "54000/54000 [==============================] - 79s 1ms/sample - loss: 0.0268 - acc: 0.9918 - val_loss: 0.0402 - val_acc: 0.9888\n",
            "Epoch 5/5\n",
            "54000/54000 [==============================] - 79s 1ms/sample - loss: 0.0218 - acc: 0.9932 - val_loss: 0.0419 - val_acc: 0.9875\n",
            "10000/10000 [==============================] - 5s 498us/sample - loss: 0.0334 - acc: 0.9890\n",
            "Accuracy trên tập test:  0.989\n"
          ],
          "name": "stdout"
        }
      ]
    }
  ]
}